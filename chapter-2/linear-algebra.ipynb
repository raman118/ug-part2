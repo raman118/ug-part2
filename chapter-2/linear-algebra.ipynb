{
 "cells": [
  {
   "cell_type": "code",
   "id": "initial_id",
   "metadata": {
    "collapsed": true,
    "ExecuteTime": {
     "end_time": "2025-08-27T14:39:21.860589Z",
     "start_time": "2025-08-27T14:39:19.470851Z"
    }
   },
   "source": "import tensorflow as tf",
   "outputs": [],
   "execution_count": 2
  },
  {
   "metadata": {
    "ExecuteTime": {
     "end_time": "2025-08-27T14:40:19.875214Z",
     "start_time": "2025-08-27T14:40:19.851117Z"
    }
   },
   "cell_type": "code",
   "source": [
    "x = tf.constant(3.0)\n",
    "y = tf.constant(2.0)\n",
    "print(x)\n",
    "print(y)"
   ],
   "id": "1277345351da4ebd",
   "outputs": [
    {
     "name": "stdout",
     "output_type": "stream",
     "text": [
      "tf.Tensor(3.0, shape=(), dtype=float32)\n",
      "tf.Tensor(2.0, shape=(), dtype=float32)\n"
     ]
    }
   ],
   "execution_count": 3
  },
  {
   "metadata": {
    "ExecuteTime": {
     "end_time": "2025-08-27T14:40:29.515504Z",
     "start_time": "2025-08-27T14:40:29.500232Z"
    }
   },
   "cell_type": "code",
   "source": "x + y, x * y, x / y, x**y",
   "id": "cda2c1d0dd78297d",
   "outputs": [
    {
     "data": {
      "text/plain": [
       "(<tf.Tensor: shape=(), dtype=float32, numpy=5.0>,\n",
       " <tf.Tensor: shape=(), dtype=float32, numpy=6.0>,\n",
       " <tf.Tensor: shape=(), dtype=float32, numpy=1.5>,\n",
       " <tf.Tensor: shape=(), dtype=float32, numpy=9.0>)"
      ]
     },
     "execution_count": 4,
     "metadata": {},
     "output_type": "execute_result"
    }
   ],
   "execution_count": 4
  },
  {
   "metadata": {
    "ExecuteTime": {
     "end_time": "2025-08-27T14:41:31.256537Z",
     "start_time": "2025-08-27T14:41:31.247020Z"
    }
   },
   "cell_type": "code",
   "source": [
    "x = tf.range(3)\n",
    "x"
   ],
   "id": "ac36df0b2a1b89d0",
   "outputs": [
    {
     "data": {
      "text/plain": [
       "<tf.Tensor: shape=(3,), dtype=int32, numpy=array([0, 1, 2], dtype=int32)>"
      ]
     },
     "execution_count": 5,
     "metadata": {},
     "output_type": "execute_result"
    }
   ],
   "execution_count": 5
  },
  {
   "metadata": {
    "ExecuteTime": {
     "end_time": "2025-08-27T14:41:54.376462Z",
     "start_time": "2025-08-27T14:41:54.366716Z"
    }
   },
   "cell_type": "code",
   "source": "x[2]",
   "id": "d83a66299f21d7d0",
   "outputs": [
    {
     "data": {
      "text/plain": [
       "<tf.Tensor: shape=(), dtype=int32, numpy=2>"
      ]
     },
     "execution_count": 6,
     "metadata": {},
     "output_type": "execute_result"
    }
   ],
   "execution_count": 6
  },
  {
   "metadata": {
    "ExecuteTime": {
     "end_time": "2025-08-27T14:42:10.374415Z",
     "start_time": "2025-08-27T14:42:10.365529Z"
    }
   },
   "cell_type": "code",
   "source": "len(x)",
   "id": "ba83aa5195398e93",
   "outputs": [
    {
     "data": {
      "text/plain": [
       "3"
      ]
     },
     "execution_count": 8,
     "metadata": {},
     "output_type": "execute_result"
    }
   ],
   "execution_count": 8
  },
  {
   "metadata": {
    "ExecuteTime": {
     "end_time": "2025-08-27T14:42:16.175461Z",
     "start_time": "2025-08-27T14:42:16.169507Z"
    }
   },
   "cell_type": "code",
   "source": "x.shape",
   "id": "c5f06c0717e1ec8d",
   "outputs": [
    {
     "data": {
      "text/plain": [
       "TensorShape([3])"
      ]
     },
     "execution_count": 9,
     "metadata": {},
     "output_type": "execute_result"
    }
   ],
   "execution_count": 9
  },
  {
   "metadata": {
    "ExecuteTime": {
     "end_time": "2025-08-27T14:43:33.727365Z",
     "start_time": "2025-08-27T14:43:33.718046Z"
    }
   },
   "cell_type": "code",
   "source": [
    "A = tf.reshape(tf.range(6), (3, 2))\n",
    "A"
   ],
   "id": "69e2ef987d946ed5",
   "outputs": [
    {
     "data": {
      "text/plain": [
       "<tf.Tensor: shape=(3, 2), dtype=int32, numpy=\n",
       "array([[0, 1],\n",
       "       [2, 3],\n",
       "       [4, 5]], dtype=int32)>"
      ]
     },
     "execution_count": 10,
     "metadata": {},
     "output_type": "execute_result"
    }
   ],
   "execution_count": 10
  },
  {
   "metadata": {
    "ExecuteTime": {
     "end_time": "2025-08-27T14:44:05.505107Z",
     "start_time": "2025-08-27T14:44:05.497574Z"
    }
   },
   "cell_type": "code",
   "source": "tf.transpose(A)",
   "id": "eec1cc2b6c731e41",
   "outputs": [
    {
     "data": {
      "text/plain": [
       "<tf.Tensor: shape=(2, 3), dtype=int32, numpy=\n",
       "array([[0, 2, 4],\n",
       "       [1, 3, 5]], dtype=int32)>"
      ]
     },
     "execution_count": 11,
     "metadata": {},
     "output_type": "execute_result"
    }
   ],
   "execution_count": 11
  },
  {
   "metadata": {
    "ExecuteTime": {
     "end_time": "2025-08-27T14:44:22.760325Z",
     "start_time": "2025-08-27T14:44:22.750217Z"
    }
   },
   "cell_type": "code",
   "source": [
    "A = tf.constant([[1, 2, 3], [2, 0, 4], [3, 4, 5]])\n",
    "A == tf.transpose(A)"
   ],
   "id": "e51afaa2015ef154",
   "outputs": [
    {
     "data": {
      "text/plain": [
       "<tf.Tensor: shape=(3, 3), dtype=bool, numpy=\n",
       "array([[ True,  True,  True],\n",
       "       [ True,  True,  True],\n",
       "       [ True,  True,  True]])>"
      ]
     },
     "execution_count": 12,
     "metadata": {},
     "output_type": "execute_result"
    }
   ],
   "execution_count": 12
  },
  {
   "metadata": {
    "ExecuteTime": {
     "end_time": "2025-08-27T14:46:05.806164Z",
     "start_time": "2025-08-27T14:46:05.799086Z"
    }
   },
   "cell_type": "code",
   "source": "tf.reshape(tf.range(24), (2, 3, 4))",
   "id": "b95bfbd8de4c48eb",
   "outputs": [
    {
     "data": {
      "text/plain": [
       "<tf.Tensor: shape=(2, 3, 4), dtype=int32, numpy=\n",
       "array([[[ 0,  1,  2,  3],\n",
       "        [ 4,  5,  6,  7],\n",
       "        [ 8,  9, 10, 11]],\n",
       "\n",
       "       [[12, 13, 14, 15],\n",
       "        [16, 17, 18, 19],\n",
       "        [20, 21, 22, 23]]], dtype=int32)>"
      ]
     },
     "execution_count": 13,
     "metadata": {},
     "output_type": "execute_result"
    }
   ],
   "execution_count": 13
  },
  {
   "metadata": {
    "ExecuteTime": {
     "end_time": "2025-08-27T14:47:22.183320Z",
     "start_time": "2025-08-27T14:47:22.170094Z"
    }
   },
   "cell_type": "code",
   "source": [
    "A = tf.reshape(tf.range(6, dtype=tf.float32), (2, 3))\n",
    "B = A  # No cloning of A to B by allocating new memory\n",
    "A, A + B"
   ],
   "id": "780f35ce3661d6ec",
   "outputs": [
    {
     "data": {
      "text/plain": [
       "(<tf.Tensor: shape=(2, 3), dtype=float32, numpy=\n",
       " array([[0., 1., 2.],\n",
       "        [3., 4., 5.]], dtype=float32)>,\n",
       " <tf.Tensor: shape=(2, 3), dtype=float32, numpy=\n",
       " array([[ 0.,  2.,  4.],\n",
       "        [ 6.,  8., 10.]], dtype=float32)>)"
      ]
     },
     "execution_count": 14,
     "metadata": {},
     "output_type": "execute_result"
    }
   ],
   "execution_count": 14
  },
  {
   "metadata": {
    "ExecuteTime": {
     "end_time": "2025-08-27T14:47:34.254052Z",
     "start_time": "2025-08-27T14:47:34.246340Z"
    }
   },
   "cell_type": "code",
   "source": "A * B",
   "id": "b18f54306049edf6",
   "outputs": [
    {
     "data": {
      "text/plain": [
       "<tf.Tensor: shape=(2, 3), dtype=float32, numpy=\n",
       "array([[ 0.,  1.,  4.],\n",
       "       [ 9., 16., 25.]], dtype=float32)>"
      ]
     },
     "execution_count": 15,
     "metadata": {},
     "output_type": "execute_result"
    }
   ],
   "execution_count": 15
  },
  {
   "metadata": {
    "ExecuteTime": {
     "end_time": "2025-08-27T14:48:12.993686Z",
     "start_time": "2025-08-27T14:48:12.984218Z"
    }
   },
   "cell_type": "code",
   "source": [
    "a = 2\n",
    "X = tf.reshape(tf.range(24), (2, 3, 4))\n",
    "a + X, (a * X).shape"
   ],
   "id": "dc3dcce436423481",
   "outputs": [
    {
     "data": {
      "text/plain": [
       "(<tf.Tensor: shape=(2, 3, 4), dtype=int32, numpy=\n",
       " array([[[ 2,  3,  4,  5],\n",
       "         [ 6,  7,  8,  9],\n",
       "         [10, 11, 12, 13]],\n",
       " \n",
       "        [[14, 15, 16, 17],\n",
       "         [18, 19, 20, 21],\n",
       "         [22, 23, 24, 25]]], dtype=int32)>,\n",
       " TensorShape([2, 3, 4]))"
      ]
     },
     "execution_count": 16,
     "metadata": {},
     "output_type": "execute_result"
    }
   ],
   "execution_count": 16
  },
  {
   "metadata": {
    "ExecuteTime": {
     "end_time": "2025-08-27T14:48:45.606061Z",
     "start_time": "2025-08-27T14:48:45.596396Z"
    }
   },
   "cell_type": "code",
   "source": [
    "x = tf.range(3, dtype=tf.float32)\n",
    "x, tf.reduce_sum(x)"
   ],
   "id": "48cbf665097fcf19",
   "outputs": [
    {
     "data": {
      "text/plain": [
       "(<tf.Tensor: shape=(3,), dtype=float32, numpy=array([0., 1., 2.], dtype=float32)>,\n",
       " <tf.Tensor: shape=(), dtype=float32, numpy=3.0>)"
      ]
     },
     "execution_count": 17,
     "metadata": {},
     "output_type": "execute_result"
    }
   ],
   "execution_count": 17
  },
  {
   "metadata": {
    "ExecuteTime": {
     "end_time": "2025-08-27T14:48:59.967566Z",
     "start_time": "2025-08-27T14:48:59.961550Z"
    }
   },
   "cell_type": "code",
   "source": "A.shape, tf.reduce_sum(A, axis=0).shape",
   "id": "dc87713a4bb5828b",
   "outputs": [
    {
     "data": {
      "text/plain": [
       "(TensorShape([2, 3]), TensorShape([3]))"
      ]
     },
     "execution_count": 18,
     "metadata": {},
     "output_type": "execute_result"
    }
   ],
   "execution_count": 18
  },
  {
   "metadata": {
    "ExecuteTime": {
     "end_time": "2025-08-27T14:49:09.601935Z",
     "start_time": "2025-08-27T14:49:09.596330Z"
    }
   },
   "cell_type": "code",
   "source": "A.shape, tf.reduce_sum(A, axis=1).shape",
   "id": "9c8acc5918f67284",
   "outputs": [
    {
     "data": {
      "text/plain": [
       "(TensorShape([2, 3]), TensorShape([2]))"
      ]
     },
     "execution_count": 19,
     "metadata": {},
     "output_type": "execute_result"
    }
   ],
   "execution_count": 19
  },
  {
   "metadata": {
    "ExecuteTime": {
     "end_time": "2025-08-27T14:49:23.692253Z",
     "start_time": "2025-08-27T14:49:23.684376Z"
    }
   },
   "cell_type": "code",
   "source": "tf.reduce_sum(A, axis=[0, 1]), tf.reduce_sum(A)  # Same as tf.reduce_sum(A)",
   "id": "115877a9194cf09",
   "outputs": [
    {
     "data": {
      "text/plain": [
       "(<tf.Tensor: shape=(), dtype=float32, numpy=15.0>,\n",
       " <tf.Tensor: shape=(), dtype=float32, numpy=15.0>)"
      ]
     },
     "execution_count": 20,
     "metadata": {},
     "output_type": "execute_result"
    }
   ],
   "execution_count": 20
  },
  {
   "metadata": {
    "ExecuteTime": {
     "end_time": "2025-08-27T14:50:20.499841Z",
     "start_time": "2025-08-27T14:50:20.493373Z"
    }
   },
   "cell_type": "code",
   "source": "tf.reduce_mean(A), print(tf.reduce_sum(A) / tf.size(A).numpy())",
   "id": "8c8e169fde2447b4",
   "outputs": [
    {
     "name": "stdout",
     "output_type": "stream",
     "text": [
      "tf.Tensor(2.5, shape=(), dtype=float32)\n"
     ]
    },
    {
     "data": {
      "text/plain": [
       "(<tf.Tensor: shape=(), dtype=float32, numpy=2.5>, None)"
      ]
     },
     "execution_count": 22,
     "metadata": {},
     "output_type": "execute_result"
    }
   ],
   "execution_count": 22
  },
  {
   "metadata": {
    "ExecuteTime": {
     "end_time": "2025-08-27T14:51:38.355925Z",
     "start_time": "2025-08-27T14:51:38.341923Z"
    }
   },
   "cell_type": "code",
   "source": [
    "y = tf.ones(3, dtype=tf.float32)\n",
    "x, y, tf.tensordot(x, y, axes=1)"
   ],
   "id": "2637c13b5020de72",
   "outputs": [
    {
     "data": {
      "text/plain": [
       "(<tf.Tensor: shape=(3,), dtype=float32, numpy=array([0., 1., 2.], dtype=float32)>,\n",
       " <tf.Tensor: shape=(3,), dtype=float32, numpy=array([1., 1., 1.], dtype=float32)>,\n",
       " <tf.Tensor: shape=(), dtype=float32, numpy=3.0>)"
      ]
     },
     "execution_count": 23,
     "metadata": {},
     "output_type": "execute_result"
    }
   ],
   "execution_count": 23
  },
  {
   "metadata": {
    "ExecuteTime": {
     "end_time": "2025-08-27T14:51:44.214838Z",
     "start_time": "2025-08-27T14:51:44.209835Z"
    }
   },
   "cell_type": "code",
   "source": "tf.reduce_sum(x * y)",
   "id": "4dd23d29b24c810f",
   "outputs": [
    {
     "data": {
      "text/plain": [
       "<tf.Tensor: shape=(), dtype=float32, numpy=3.0>"
      ]
     },
     "execution_count": 24,
     "metadata": {},
     "output_type": "execute_result"
    }
   ],
   "execution_count": 24
  },
  {
   "metadata": {
    "ExecuteTime": {
     "end_time": "2025-08-27T14:53:14.405574Z",
     "start_time": "2025-08-27T14:53:14.393395Z"
    }
   },
   "cell_type": "code",
   "source": "A.shape, x.shape, tf.linalg.matvec(A, x)",
   "id": "dcb32df39f4bb71b",
   "outputs": [
    {
     "data": {
      "text/plain": [
       "(TensorShape([2, 3]),\n",
       " TensorShape([3]),\n",
       " <tf.Tensor: shape=(2,), dtype=float32, numpy=array([ 5., 14.], dtype=float32)>)"
      ]
     },
     "execution_count": 25,
     "metadata": {},
     "output_type": "execute_result"
    }
   ],
   "execution_count": 25
  },
  {
   "metadata": {
    "ExecuteTime": {
     "end_time": "2025-08-27T14:56:25.088834Z",
     "start_time": "2025-08-27T14:56:25.070800Z"
    }
   },
   "cell_type": "code",
   "source": [
    "B = tf.ones((3, 4), tf.float32)\n",
    "tf.matmul(A, B)"
   ],
   "id": "18c3521c770cbcb1",
   "outputs": [
    {
     "data": {
      "text/plain": [
       "<tf.Tensor: shape=(2, 4), dtype=float32, numpy=\n",
       "array([[ 3.,  3.,  3.,  3.],\n",
       "       [12., 12., 12., 12.]], dtype=float32)>"
      ]
     },
     "execution_count": 26,
     "metadata": {},
     "output_type": "execute_result"
    }
   ],
   "execution_count": 26
  },
  {
   "metadata": {
    "ExecuteTime": {
     "end_time": "2025-08-27T14:58:21.996729Z",
     "start_time": "2025-08-27T14:58:21.984176Z"
    }
   },
   "cell_type": "code",
   "source": [
    "u = tf.constant([3.0, -4.0])\n",
    "tf.norm(u)"
   ],
   "id": "33e860748f80b02e",
   "outputs": [
    {
     "data": {
      "text/plain": [
       "<tf.Tensor: shape=(), dtype=float32, numpy=5.0>"
      ]
     },
     "execution_count": 27,
     "metadata": {},
     "output_type": "execute_result"
    }
   ],
   "execution_count": 27
  },
  {
   "metadata": {
    "ExecuteTime": {
     "end_time": "2025-08-27T14:58:28.940486Z",
     "start_time": "2025-08-27T14:58:28.932521Z"
    }
   },
   "cell_type": "code",
   "source": "tf.reduce_sum(tf.abs(u))",
   "id": "d182053b3cc418b2",
   "outputs": [
    {
     "data": {
      "text/plain": [
       "<tf.Tensor: shape=(), dtype=float32, numpy=7.0>"
      ]
     },
     "execution_count": 28,
     "metadata": {},
     "output_type": "execute_result"
    }
   ],
   "execution_count": 28
  },
  {
   "metadata": {
    "ExecuteTime": {
     "end_time": "2025-08-27T14:58:37.806595Z",
     "start_time": "2025-08-27T14:58:37.802141Z"
    }
   },
   "cell_type": "code",
   "source": "tf.reduce_sum(tf.abs(u))",
   "id": "129d8d9e8ad3e360",
   "outputs": [
    {
     "data": {
      "text/plain": [
       "<tf.Tensor: shape=(), dtype=float32, numpy=7.0>"
      ]
     },
     "execution_count": 29,
     "metadata": {},
     "output_type": "execute_result"
    }
   ],
   "execution_count": 29
  }
 ],
 "metadata": {
  "kernelspec": {
   "display_name": "Python 3",
   "language": "python",
   "name": "python3"
  },
  "language_info": {
   "codemirror_mode": {
    "name": "ipython",
    "version": 2
   },
   "file_extension": ".py",
   "mimetype": "text/x-python",
   "name": "python",
   "nbconvert_exporter": "python",
   "pygments_lexer": "ipython2",
   "version": "2.7.6"
  }
 },
 "nbformat": 4,
 "nbformat_minor": 5
}
